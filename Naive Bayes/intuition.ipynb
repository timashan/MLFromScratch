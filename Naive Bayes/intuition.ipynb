{
 "cells": [
  {
   "cell_type": "markdown",
   "id": "2f2ab725",
   "metadata": {},
   "source": [
    "# Naive Bayes Intuition"
   ]
  },
  {
   "cell_type": "code",
   "execution_count": 1,
   "id": "75787191",
   "metadata": {},
   "outputs": [],
   "source": [
    "import numpy as np\n",
    "import pandas as pd\n",
    "import matplotlib.pyplot as plt\n",
    "import seaborn as sns\n",
    "\n",
    "import math\n",
    "\n",
    "from sklearn import datasets\n",
    "from sklearn.model_selection import train_test_split"
   ]
  },
  {
   "cell_type": "markdown",
   "id": "e19d4895",
   "metadata": {},
   "source": [
    "Naive bayes is Naive coz it doesn't care about word order.\\\n",
    "High bias, low variance\\\n",
    "Features are independent.\\\n",
    "Continous Values are bad.\n",
    "\n",
    "https://www.youtube.com/watch?v=O2L2Uv9pdDA"
   ]
  },
  {
   "cell_type": "markdown",
   "id": "399181b8",
   "metadata": {},
   "source": [
    "$P(A|B) = \\frac{P(B|A)*P(A)}{P(B)}$\n",
    "\n",
    "$P(y|X) = \\frac{P(X|y)*P(y)}{P(X)}$\n",
    "\n",
    "$P(y|X) = \\frac{P(X_1|y)*P(X_2|y)*...*P(X_n|y)*P(y)}{P(X)}$\n",
    "\n",
    "denomiator is ignored"
   ]
  },
  {
   "cell_type": "code",
   "execution_count": 19,
   "id": "8754ba4d",
   "metadata": {
    "scrolled": true
   },
   "outputs": [
    {
     "name": "stdout",
     "output_type": "stream",
     "text": [
      "3\n",
      "[1 2 5]\n"
     ]
    }
   ],
   "source": [
    "def printAll(*ps) : \n",
    "    [print(p) for p in ps]\n",
    "\n",
    "printAll(\n",
    "np.argmax([1,1,2,5]),\n",
    "np.unique([1,1,2,5]),\n",
    ")"
   ]
  },
  {
   "cell_type": "code",
   "execution_count": 2,
   "id": "bff5e602",
   "metadata": {},
   "outputs": [
    {
     "data": {
      "text/plain": [
       "((5, 10), 5)"
      ]
     },
     "execution_count": 2,
     "metadata": {},
     "output_type": "execute_result"
    }
   ],
   "source": [
    "X, y = datasets.make_classification(n_samples=8, n_features=10, n_classes=2, random_state=42)\n",
    "X_train, X_test, y_train, y_test = train_test_split(X, y, test_size=0.33, random_state=42)\n",
    "X_train.shape, len(y_train)"
   ]
  },
  {
   "cell_type": "markdown",
   "id": "bdbe271b",
   "metadata": {},
   "source": [
    "## Step 1: Create Matrices"
   ]
  },
  {
   "cell_type": "code",
   "execution_count": 3,
   "id": "acb3f584",
   "metadata": {},
   "outputs": [
    {
     "data": {
      "text/plain": [
       "2"
      ]
     },
     "execution_count": 3,
     "metadata": {},
     "output_type": "execute_result"
    }
   ],
   "source": [
    "n_samples, n_features = X_train.shape\n",
    "classes = np.unique(y_train)\n",
    "n_classes = len(classes)\n",
    "n_classes"
   ]
  },
  {
   "cell_type": "code",
   "execution_count": 4,
   "id": "346af8e0",
   "metadata": {},
   "outputs": [
    {
     "data": {
      "text/plain": [
       "(2, 10)"
      ]
     },
     "execution_count": 4,
     "metadata": {},
     "output_type": "execute_result"
    }
   ],
   "source": [
    "mean = np.zeros((n_classes, n_features), dtype=np.float64)\n",
    "var = np.zeros((n_classes, n_features), dtype=np.float64)\n",
    "priors = np.zeros(n_classes, dtype=np.float64)\n",
    "mean.shape"
   ]
  },
  {
   "cell_type": "code",
   "execution_count": 5,
   "id": "40bad5a2",
   "metadata": {},
   "outputs": [
    {
     "data": {
      "text/plain": [
       "(3, 10)"
      ]
     },
     "execution_count": 5,
     "metadata": {},
     "output_type": "execute_result"
    }
   ],
   "source": [
    "X_train[y_train==0].shape"
   ]
  },
  {
   "cell_type": "code",
   "execution_count": 8,
   "id": "44710d5d",
   "metadata": {},
   "outputs": [
    {
     "data": {
      "text/plain": [
       "(0.6, 0.4)"
      ]
     },
     "execution_count": 8,
     "metadata": {},
     "output_type": "execute_result"
    }
   ],
   "source": [
    "len(X_train[y_train==0])/n_samples, len(X_train[y_train==1])/n_samples"
   ]
  },
  {
   "cell_type": "markdown",
   "id": "d47f902c",
   "metadata": {},
   "source": [
    "## Step 2: Cal Col Mean & Var"
   ]
  },
  {
   "cell_type": "code",
   "execution_count": 9,
   "id": "4bb6f846",
   "metadata": {},
   "outputs": [
    {
     "name": "stdout",
     "output_type": "stream",
     "text": [
      "0 (3, 10) (10,) 0.6\n",
      "1 (2, 10) (10,) 0.4\n"
     ]
    }
   ],
   "source": [
    "for i, c in enumerate(classes):\n",
    "    X_c = X_train[y_train==c]\n",
    "    # Mean & Variance for each feature\n",
    "    mean[i,:] = X_c.mean(axis=0)\n",
    "    var[i,:] = X_c.var(axis=0)\n",
    "    # Relative frequencies of classes as Priors\n",
    "    priors[i] = (X_c.shape[0]/n_samples)\n",
    "    print(i, X_c.shape, X_c.mean(axis=0).shape, priors[i])"
   ]
  },
  {
   "cell_type": "markdown",
   "id": "0862bb4b",
   "metadata": {},
   "source": [
    "### PDF"
   ]
  },
  {
   "cell_type": "code",
   "execution_count": 15,
   "id": "94babd70",
   "metadata": {},
   "outputs": [
    {
     "name": "stderr",
     "output_type": "stream",
     "text": [
      "C:\\Users\\timashan\\AppData\\Local\\Temp\\ipykernel_18736\\1797519152.py:9: RuntimeWarning: divide by zero encountered in log\n",
      "  np.sum(np.log(pdf(1, [5,1,4,5,6,7,5,4,1,2])))\n"
     ]
    },
    {
     "data": {
      "text/plain": [
       "-inf"
      ]
     },
     "execution_count": 15,
     "metadata": {},
     "output_type": "execute_result"
    }
   ],
   "source": [
    "def pdf(i, x):\n",
    "    # Returns list of pdfs for each feature\n",
    "    m = mean[i]\n",
    "    v = var[i]\n",
    "    numerator = np.exp(-((x - m) ** 2) / (2 * v))\n",
    "    denominator = np.sqrt(2 * np.pi * v)\n",
    "    return numerator / denominator\n",
    "\n",
    "np.sum(np.log(pdf(1, [5,1,4,5,6,7,5,4,1,2])))"
   ]
  },
  {
   "cell_type": "code",
   "execution_count": 48,
   "id": "9ab1c3ed",
   "metadata": {},
   "outputs": [
    {
     "data": {
      "text/plain": [
       "array([0.07978846, 0.07820854, 0.05793831, 0.00271659])"
      ]
     },
     "execution_count": 48,
     "metadata": {},
     "output_type": "execute_result"
    }
   ],
   "source": [
    "numerator = np.exp(-((np.array([5,4,1,-8]) - 5) ** 2) / (2 * 25))\n",
    "denominator = np.sqrt(2 * np.pi * 25)\n",
    "pdf_0 = numerator / denominator\n",
    "pdf_0\n",
    "# sns.kdeplot(np.random.normal(5, 5, 1000))"
   ]
  },
  {
   "cell_type": "code",
   "execution_count": 57,
   "id": "b8e88e67",
   "metadata": {},
   "outputs": [
    {
     "name": "stdout",
     "output_type": "stream",
     "text": [
      "[0.07978846 0.07820854 0.05793831 0.00271659]\n"
     ]
    }
   ],
   "source": [
    "from scipy.stats import norm\n",
    "print(norm.pdf([5,4,1,-8], 5, 5))"
   ]
  },
  {
   "cell_type": "markdown",
   "id": "b08edd16",
   "metadata": {},
   "source": [
    "## Step 3: Calc Posterior with Gaussian PDF"
   ]
  },
  {
   "cell_type": "code",
   "execution_count": 18,
   "id": "359a0b09",
   "metadata": {},
   "outputs": [
    {
     "name": "stdout",
     "output_type": "stream",
     "text": [
      "0 0 -0.5 -588.4\n",
      "0 1 -0.9 -36.7\n",
      "[-588.3624617843499, -36.67956053183627] 1\n",
      "1 0 -0.5 -92.2\n",
      "1 1 -0.9 -38.4\n",
      "[-92.24526151715004, -38.405524948946855] 1\n",
      "2 0 -0.5 -inf\n",
      "2 1 -0.9 -168.5\n",
      "[-inf, -168.47784497714176] 1\n"
     ]
    },
    {
     "name": "stderr",
     "output_type": "stream",
     "text": [
      "C:\\Users\\timashan\\AppData\\Local\\Temp\\ipykernel_18736\\1350139866.py:6: RuntimeWarning: divide by zero encountered in log\n",
      "  pos = np.sum(np.log(pdf(i, x))) # likelihood\n"
     ]
    },
    {
     "data": {
      "text/plain": [
       "3"
      ]
     },
     "execution_count": 18,
     "metadata": {},
     "output_type": "execute_result"
    }
   ],
   "source": [
    "pred = []\n",
    "for i0, x in enumerate(X_test):\n",
    "    poss = []\n",
    "    for i, c in enumerate(classes):\n",
    "        prior = np.log(priors[i])\n",
    "        pos = np.sum(np.log(pdf(i, x))) # likelihood\n",
    "        # Logs so we sum em up\n",
    "        pos = pos + prior\n",
    "        poss.append(pos)\n",
    "        print(i0, c,  round(prior, 1), round(pos, 1))\n",
    "    print(poss, np.argmax(poss))\n",
    "    pred.append(classes[np.argmax(poss)])\n",
    "\n",
    "len(pred)"
   ]
  },
  {
   "cell_type": "code",
   "execution_count": 19,
   "id": "6c8b188b",
   "metadata": {},
   "outputs": [
    {
     "data": {
      "text/plain": [
       "0.6666666666666666"
      ]
     },
     "execution_count": 19,
     "metadata": {},
     "output_type": "execute_result"
    }
   ],
   "source": [
    "np.sum(y_test == pred)/len(pred)"
   ]
  }
 ],
 "metadata": {
  "kernelspec": {
   "display_name": "Python 3 (ipykernel)",
   "language": "python",
   "name": "python3"
  },
  "language_info": {
   "codemirror_mode": {
    "name": "ipython",
    "version": 3
   },
   "file_extension": ".py",
   "mimetype": "text/x-python",
   "name": "python",
   "nbconvert_exporter": "python",
   "pygments_lexer": "ipython3",
   "version": "3.11.5"
  }
 },
 "nbformat": 4,
 "nbformat_minor": 5
}
